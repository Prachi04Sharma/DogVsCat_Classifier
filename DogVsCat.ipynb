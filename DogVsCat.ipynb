{
 "cells": [
  {
   "cell_type": "code",
   "execution_count": 23,
   "metadata": {},
   "outputs": [],
   "source": [
    "import tensorflow as tf \n",
    "from tensorflow import keras \n",
    "from keras import Sequential \n",
    "from keras.layers import Dense, Conv2D,MaxPooling2D,Flatten,BatchNormalization,Dropout"
   ]
  },
  {
   "cell_type": "code",
   "execution_count": 24,
   "metadata": {},
   "outputs": [
    {
     "name": "stdout",
     "output_type": "stream",
     "text": [
      "Found 20000 files belonging to 2 classes.\n",
      "Found 5000 files belonging to 2 classes.\n"
     ]
    }
   ],
   "source": [
    "# generators \n",
    "train_ds = keras.utils.image_dataset_from_directory(\n",
    "    directory = 'C:/Users/prach/OneDrive/Desktop/DataScience/DogVsCat_Classifier/dogs_vs_cats/train',\n",
    "    labels = 'inferred',\n",
    "    label_mode = 'int',\n",
    "    batch_size = 32,\n",
    "    image_size = (256,256)\n",
    ")\n",
    "validation_ds = keras.utils.image_dataset_from_directory(\n",
    "    directory = 'C:/Users/prach/OneDrive/Desktop/DataScience/DogVsCat_Classifier/dogs_vs_cats/test',\n",
    "    labels = 'inferred',\n",
    "    label_mode = 'int',\n",
    "    batch_size = 32,\n",
    "    image_size = (256,256)\n",
    ")"
   ]
  },
  {
   "cell_type": "code",
   "execution_count": 25,
   "metadata": {},
   "outputs": [],
   "source": [
    "# normalize \n",
    "def process(image, label):\n",
    "    image = tf.cast(image/255. ,tf.float32)\n",
    "    return image,label\n",
    "\n",
    "train_ds = train_ds.map(process)\n",
    "validation_ds = validation_ds.map(process)"
   ]
  },
  {
   "cell_type": "code",
   "execution_count": 26,
   "metadata": {},
   "outputs": [
    {
     "data": {
      "text/html": [
       "<pre style=\"white-space:pre;overflow-x:auto;line-height:normal;font-family:Menlo,'DejaVu Sans Mono',consolas,'Courier New',monospace\"><span style=\"font-weight: bold\">Model: \"sequential_10\"</span>\n",
       "</pre>\n"
      ],
      "text/plain": [
       "\u001b[1mModel: \"sequential_10\"\u001b[0m\n"
      ]
     },
     "metadata": {},
     "output_type": "display_data"
    },
    {
     "data": {
      "text/html": [
       "<pre style=\"white-space:pre;overflow-x:auto;line-height:normal;font-family:Menlo,'DejaVu Sans Mono',consolas,'Courier New',monospace\">┏━━━━━━━━━━━━━━━━━━━━━━━━━━━━━━━━━┳━━━━━━━━━━━━━━━━━━━━━━━━┳━━━━━━━━━━━━━━━┓\n",
       "┃<span style=\"font-weight: bold\"> Layer (type)                    </span>┃<span style=\"font-weight: bold\"> Output Shape           </span>┃<span style=\"font-weight: bold\">       Param # </span>┃\n",
       "┡━━━━━━━━━━━━━━━━━━━━━━━━━━━━━━━━━╇━━━━━━━━━━━━━━━━━━━━━━━━╇━━━━━━━━━━━━━━━┩\n",
       "│ conv2d_13 (<span style=\"color: #0087ff; text-decoration-color: #0087ff\">Conv2D</span>)              │ (<span style=\"color: #00d7ff; text-decoration-color: #00d7ff\">None</span>, <span style=\"color: #00af00; text-decoration-color: #00af00\">254</span>, <span style=\"color: #00af00; text-decoration-color: #00af00\">254</span>, <span style=\"color: #00af00; text-decoration-color: #00af00\">32</span>)   │           <span style=\"color: #00af00; text-decoration-color: #00af00\">896</span> │\n",
       "├─────────────────────────────────┼────────────────────────┼───────────────┤\n",
       "│ batch_normalization_6           │ (<span style=\"color: #00d7ff; text-decoration-color: #00d7ff\">None</span>, <span style=\"color: #00af00; text-decoration-color: #00af00\">254</span>, <span style=\"color: #00af00; text-decoration-color: #00af00\">254</span>, <span style=\"color: #00af00; text-decoration-color: #00af00\">32</span>)   │           <span style=\"color: #00af00; text-decoration-color: #00af00\">128</span> │\n",
       "│ (<span style=\"color: #0087ff; text-decoration-color: #0087ff\">BatchNormalization</span>)            │                        │               │\n",
       "├─────────────────────────────────┼────────────────────────┼───────────────┤\n",
       "│ max_pooling2d_12 (<span style=\"color: #0087ff; text-decoration-color: #0087ff\">MaxPooling2D</span>) │ (<span style=\"color: #00d7ff; text-decoration-color: #00d7ff\">None</span>, <span style=\"color: #00af00; text-decoration-color: #00af00\">127</span>, <span style=\"color: #00af00; text-decoration-color: #00af00\">127</span>, <span style=\"color: #00af00; text-decoration-color: #00af00\">32</span>)   │             <span style=\"color: #00af00; text-decoration-color: #00af00\">0</span> │\n",
       "├─────────────────────────────────┼────────────────────────┼───────────────┤\n",
       "│ conv2d_14 (<span style=\"color: #0087ff; text-decoration-color: #0087ff\">Conv2D</span>)              │ (<span style=\"color: #00d7ff; text-decoration-color: #00d7ff\">None</span>, <span style=\"color: #00af00; text-decoration-color: #00af00\">125</span>, <span style=\"color: #00af00; text-decoration-color: #00af00\">125</span>, <span style=\"color: #00af00; text-decoration-color: #00af00\">64</span>)   │        <span style=\"color: #00af00; text-decoration-color: #00af00\">18,496</span> │\n",
       "├─────────────────────────────────┼────────────────────────┼───────────────┤\n",
       "│ batch_normalization_7           │ (<span style=\"color: #00d7ff; text-decoration-color: #00d7ff\">None</span>, <span style=\"color: #00af00; text-decoration-color: #00af00\">125</span>, <span style=\"color: #00af00; text-decoration-color: #00af00\">125</span>, <span style=\"color: #00af00; text-decoration-color: #00af00\">64</span>)   │           <span style=\"color: #00af00; text-decoration-color: #00af00\">256</span> │\n",
       "│ (<span style=\"color: #0087ff; text-decoration-color: #0087ff\">BatchNormalization</span>)            │                        │               │\n",
       "├─────────────────────────────────┼────────────────────────┼───────────────┤\n",
       "│ max_pooling2d_13 (<span style=\"color: #0087ff; text-decoration-color: #0087ff\">MaxPooling2D</span>) │ (<span style=\"color: #00d7ff; text-decoration-color: #00d7ff\">None</span>, <span style=\"color: #00af00; text-decoration-color: #00af00\">62</span>, <span style=\"color: #00af00; text-decoration-color: #00af00\">62</span>, <span style=\"color: #00af00; text-decoration-color: #00af00\">64</span>)     │             <span style=\"color: #00af00; text-decoration-color: #00af00\">0</span> │\n",
       "├─────────────────────────────────┼────────────────────────┼───────────────┤\n",
       "│ conv2d_15 (<span style=\"color: #0087ff; text-decoration-color: #0087ff\">Conv2D</span>)              │ (<span style=\"color: #00d7ff; text-decoration-color: #00d7ff\">None</span>, <span style=\"color: #00af00; text-decoration-color: #00af00\">60</span>, <span style=\"color: #00af00; text-decoration-color: #00af00\">60</span>, <span style=\"color: #00af00; text-decoration-color: #00af00\">128</span>)    │        <span style=\"color: #00af00; text-decoration-color: #00af00\">73,856</span> │\n",
       "├─────────────────────────────────┼────────────────────────┼───────────────┤\n",
       "│ batch_normalization_8           │ (<span style=\"color: #00d7ff; text-decoration-color: #00d7ff\">None</span>, <span style=\"color: #00af00; text-decoration-color: #00af00\">60</span>, <span style=\"color: #00af00; text-decoration-color: #00af00\">60</span>, <span style=\"color: #00af00; text-decoration-color: #00af00\">128</span>)    │           <span style=\"color: #00af00; text-decoration-color: #00af00\">512</span> │\n",
       "│ (<span style=\"color: #0087ff; text-decoration-color: #0087ff\">BatchNormalization</span>)            │                        │               │\n",
       "├─────────────────────────────────┼────────────────────────┼───────────────┤\n",
       "│ max_pooling2d_14 (<span style=\"color: #0087ff; text-decoration-color: #0087ff\">MaxPooling2D</span>) │ (<span style=\"color: #00d7ff; text-decoration-color: #00d7ff\">None</span>, <span style=\"color: #00af00; text-decoration-color: #00af00\">30</span>, <span style=\"color: #00af00; text-decoration-color: #00af00\">30</span>, <span style=\"color: #00af00; text-decoration-color: #00af00\">128</span>)    │             <span style=\"color: #00af00; text-decoration-color: #00af00\">0</span> │\n",
       "├─────────────────────────────────┼────────────────────────┼───────────────┤\n",
       "│ flatten_4 (<span style=\"color: #0087ff; text-decoration-color: #0087ff\">Flatten</span>)             │ (<span style=\"color: #00d7ff; text-decoration-color: #00d7ff\">None</span>, <span style=\"color: #00af00; text-decoration-color: #00af00\">115200</span>)         │             <span style=\"color: #00af00; text-decoration-color: #00af00\">0</span> │\n",
       "├─────────────────────────────────┼────────────────────────┼───────────────┤\n",
       "│ dense_10 (<span style=\"color: #0087ff; text-decoration-color: #0087ff\">Dense</span>)                │ (<span style=\"color: #00d7ff; text-decoration-color: #00d7ff\">None</span>, <span style=\"color: #00af00; text-decoration-color: #00af00\">128</span>)            │    <span style=\"color: #00af00; text-decoration-color: #00af00\">14,745,728</span> │\n",
       "├─────────────────────────────────┼────────────────────────┼───────────────┤\n",
       "│ dropout_2 (<span style=\"color: #0087ff; text-decoration-color: #0087ff\">Dropout</span>)             │ (<span style=\"color: #00d7ff; text-decoration-color: #00d7ff\">None</span>, <span style=\"color: #00af00; text-decoration-color: #00af00\">128</span>)            │             <span style=\"color: #00af00; text-decoration-color: #00af00\">0</span> │\n",
       "├─────────────────────────────────┼────────────────────────┼───────────────┤\n",
       "│ dense_11 (<span style=\"color: #0087ff; text-decoration-color: #0087ff\">Dense</span>)                │ (<span style=\"color: #00d7ff; text-decoration-color: #00d7ff\">None</span>, <span style=\"color: #00af00; text-decoration-color: #00af00\">64</span>)             │         <span style=\"color: #00af00; text-decoration-color: #00af00\">8,256</span> │\n",
       "├─────────────────────────────────┼────────────────────────┼───────────────┤\n",
       "│ dropout_3 (<span style=\"color: #0087ff; text-decoration-color: #0087ff\">Dropout</span>)             │ (<span style=\"color: #00d7ff; text-decoration-color: #00d7ff\">None</span>, <span style=\"color: #00af00; text-decoration-color: #00af00\">64</span>)             │             <span style=\"color: #00af00; text-decoration-color: #00af00\">0</span> │\n",
       "├─────────────────────────────────┼────────────────────────┼───────────────┤\n",
       "│ dense_12 (<span style=\"color: #0087ff; text-decoration-color: #0087ff\">Dense</span>)                │ (<span style=\"color: #00d7ff; text-decoration-color: #00d7ff\">None</span>, <span style=\"color: #00af00; text-decoration-color: #00af00\">1</span>)              │            <span style=\"color: #00af00; text-decoration-color: #00af00\">65</span> │\n",
       "└─────────────────────────────────┴────────────────────────┴───────────────┘\n",
       "</pre>\n"
      ],
      "text/plain": [
       "┏━━━━━━━━━━━━━━━━━━━━━━━━━━━━━━━━━┳━━━━━━━━━━━━━━━━━━━━━━━━┳━━━━━━━━━━━━━━━┓\n",
       "┃\u001b[1m \u001b[0m\u001b[1mLayer (type)                   \u001b[0m\u001b[1m \u001b[0m┃\u001b[1m \u001b[0m\u001b[1mOutput Shape          \u001b[0m\u001b[1m \u001b[0m┃\u001b[1m \u001b[0m\u001b[1m      Param #\u001b[0m\u001b[1m \u001b[0m┃\n",
       "┡━━━━━━━━━━━━━━━━━━━━━━━━━━━━━━━━━╇━━━━━━━━━━━━━━━━━━━━━━━━╇━━━━━━━━━━━━━━━┩\n",
       "│ conv2d_13 (\u001b[38;5;33mConv2D\u001b[0m)              │ (\u001b[38;5;45mNone\u001b[0m, \u001b[38;5;34m254\u001b[0m, \u001b[38;5;34m254\u001b[0m, \u001b[38;5;34m32\u001b[0m)   │           \u001b[38;5;34m896\u001b[0m │\n",
       "├─────────────────────────────────┼────────────────────────┼───────────────┤\n",
       "│ batch_normalization_6           │ (\u001b[38;5;45mNone\u001b[0m, \u001b[38;5;34m254\u001b[0m, \u001b[38;5;34m254\u001b[0m, \u001b[38;5;34m32\u001b[0m)   │           \u001b[38;5;34m128\u001b[0m │\n",
       "│ (\u001b[38;5;33mBatchNormalization\u001b[0m)            │                        │               │\n",
       "├─────────────────────────────────┼────────────────────────┼───────────────┤\n",
       "│ max_pooling2d_12 (\u001b[38;5;33mMaxPooling2D\u001b[0m) │ (\u001b[38;5;45mNone\u001b[0m, \u001b[38;5;34m127\u001b[0m, \u001b[38;5;34m127\u001b[0m, \u001b[38;5;34m32\u001b[0m)   │             \u001b[38;5;34m0\u001b[0m │\n",
       "├─────────────────────────────────┼────────────────────────┼───────────────┤\n",
       "│ conv2d_14 (\u001b[38;5;33mConv2D\u001b[0m)              │ (\u001b[38;5;45mNone\u001b[0m, \u001b[38;5;34m125\u001b[0m, \u001b[38;5;34m125\u001b[0m, \u001b[38;5;34m64\u001b[0m)   │        \u001b[38;5;34m18,496\u001b[0m │\n",
       "├─────────────────────────────────┼────────────────────────┼───────────────┤\n",
       "│ batch_normalization_7           │ (\u001b[38;5;45mNone\u001b[0m, \u001b[38;5;34m125\u001b[0m, \u001b[38;5;34m125\u001b[0m, \u001b[38;5;34m64\u001b[0m)   │           \u001b[38;5;34m256\u001b[0m │\n",
       "│ (\u001b[38;5;33mBatchNormalization\u001b[0m)            │                        │               │\n",
       "├─────────────────────────────────┼────────────────────────┼───────────────┤\n",
       "│ max_pooling2d_13 (\u001b[38;5;33mMaxPooling2D\u001b[0m) │ (\u001b[38;5;45mNone\u001b[0m, \u001b[38;5;34m62\u001b[0m, \u001b[38;5;34m62\u001b[0m, \u001b[38;5;34m64\u001b[0m)     │             \u001b[38;5;34m0\u001b[0m │\n",
       "├─────────────────────────────────┼────────────────────────┼───────────────┤\n",
       "│ conv2d_15 (\u001b[38;5;33mConv2D\u001b[0m)              │ (\u001b[38;5;45mNone\u001b[0m, \u001b[38;5;34m60\u001b[0m, \u001b[38;5;34m60\u001b[0m, \u001b[38;5;34m128\u001b[0m)    │        \u001b[38;5;34m73,856\u001b[0m │\n",
       "├─────────────────────────────────┼────────────────────────┼───────────────┤\n",
       "│ batch_normalization_8           │ (\u001b[38;5;45mNone\u001b[0m, \u001b[38;5;34m60\u001b[0m, \u001b[38;5;34m60\u001b[0m, \u001b[38;5;34m128\u001b[0m)    │           \u001b[38;5;34m512\u001b[0m │\n",
       "│ (\u001b[38;5;33mBatchNormalization\u001b[0m)            │                        │               │\n",
       "├─────────────────────────────────┼────────────────────────┼───────────────┤\n",
       "│ max_pooling2d_14 (\u001b[38;5;33mMaxPooling2D\u001b[0m) │ (\u001b[38;5;45mNone\u001b[0m, \u001b[38;5;34m30\u001b[0m, \u001b[38;5;34m30\u001b[0m, \u001b[38;5;34m128\u001b[0m)    │             \u001b[38;5;34m0\u001b[0m │\n",
       "├─────────────────────────────────┼────────────────────────┼───────────────┤\n",
       "│ flatten_4 (\u001b[38;5;33mFlatten\u001b[0m)             │ (\u001b[38;5;45mNone\u001b[0m, \u001b[38;5;34m115200\u001b[0m)         │             \u001b[38;5;34m0\u001b[0m │\n",
       "├─────────────────────────────────┼────────────────────────┼───────────────┤\n",
       "│ dense_10 (\u001b[38;5;33mDense\u001b[0m)                │ (\u001b[38;5;45mNone\u001b[0m, \u001b[38;5;34m128\u001b[0m)            │    \u001b[38;5;34m14,745,728\u001b[0m │\n",
       "├─────────────────────────────────┼────────────────────────┼───────────────┤\n",
       "│ dropout_2 (\u001b[38;5;33mDropout\u001b[0m)             │ (\u001b[38;5;45mNone\u001b[0m, \u001b[38;5;34m128\u001b[0m)            │             \u001b[38;5;34m0\u001b[0m │\n",
       "├─────────────────────────────────┼────────────────────────┼───────────────┤\n",
       "│ dense_11 (\u001b[38;5;33mDense\u001b[0m)                │ (\u001b[38;5;45mNone\u001b[0m, \u001b[38;5;34m64\u001b[0m)             │         \u001b[38;5;34m8,256\u001b[0m │\n",
       "├─────────────────────────────────┼────────────────────────┼───────────────┤\n",
       "│ dropout_3 (\u001b[38;5;33mDropout\u001b[0m)             │ (\u001b[38;5;45mNone\u001b[0m, \u001b[38;5;34m64\u001b[0m)             │             \u001b[38;5;34m0\u001b[0m │\n",
       "├─────────────────────────────────┼────────────────────────┼───────────────┤\n",
       "│ dense_12 (\u001b[38;5;33mDense\u001b[0m)                │ (\u001b[38;5;45mNone\u001b[0m, \u001b[38;5;34m1\u001b[0m)              │            \u001b[38;5;34m65\u001b[0m │\n",
       "└─────────────────────────────────┴────────────────────────┴───────────────┘\n"
      ]
     },
     "metadata": {},
     "output_type": "display_data"
    },
    {
     "data": {
      "text/html": [
       "<pre style=\"white-space:pre;overflow-x:auto;line-height:normal;font-family:Menlo,'DejaVu Sans Mono',consolas,'Courier New',monospace\"><span style=\"font-weight: bold\"> Total params: </span><span style=\"color: #00af00; text-decoration-color: #00af00\">14,848,193</span> (56.64 MB)\n",
       "</pre>\n"
      ],
      "text/plain": [
       "\u001b[1m Total params: \u001b[0m\u001b[38;5;34m14,848,193\u001b[0m (56.64 MB)\n"
      ]
     },
     "metadata": {},
     "output_type": "display_data"
    },
    {
     "data": {
      "text/html": [
       "<pre style=\"white-space:pre;overflow-x:auto;line-height:normal;font-family:Menlo,'DejaVu Sans Mono',consolas,'Courier New',monospace\"><span style=\"font-weight: bold\"> Trainable params: </span><span style=\"color: #00af00; text-decoration-color: #00af00\">14,847,745</span> (56.64 MB)\n",
       "</pre>\n"
      ],
      "text/plain": [
       "\u001b[1m Trainable params: \u001b[0m\u001b[38;5;34m14,847,745\u001b[0m (56.64 MB)\n"
      ]
     },
     "metadata": {},
     "output_type": "display_data"
    },
    {
     "data": {
      "text/html": [
       "<pre style=\"white-space:pre;overflow-x:auto;line-height:normal;font-family:Menlo,'DejaVu Sans Mono',consolas,'Courier New',monospace\"><span style=\"font-weight: bold\"> Non-trainable params: </span><span style=\"color: #00af00; text-decoration-color: #00af00\">448</span> (1.75 KB)\n",
       "</pre>\n"
      ],
      "text/plain": [
       "\u001b[1m Non-trainable params: \u001b[0m\u001b[38;5;34m448\u001b[0m (1.75 KB)\n"
      ]
     },
     "metadata": {},
     "output_type": "display_data"
    }
   ],
   "source": [
    "#Create CNN model passing dataset from above\n",
    "from tensorflow.keras.models import Sequential\n",
    "from tensorflow.keras.layers import Conv2D,MaxPooling2D,BatchNormalization,Dropout\n",
    "#Create CNN model\n",
    "model = Sequential()\n",
    "#Add layers to the model\n",
    "model.add(Conv2D(32,kernel_size=(3,3),padding ='valid',activation='relu',input_shape=(256,256,3)))\n",
    "model.add(BatchNormalization())\n",
    "model.add(MaxPooling2D(pool_size=(2,2),strides=2,padding='valid'))\n",
    "\n",
    "model.add(Conv2D(64,kernel_size=(3,3),padding ='valid',activation='relu'))\n",
    "model.add(BatchNormalization())\n",
    "model.add(MaxPooling2D(pool_size=(2,2),strides=2,padding='valid'))\n",
    "\n",
    "model.add(Conv2D(128,kernel_size=(3,3),padding ='valid',activation='relu'))\n",
    "model.add(BatchNormalization())\n",
    "model.add(MaxPooling2D(pool_size=(2,2),strides=2,padding='valid'))\n",
    "\n",
    "model.add(Flatten())\n",
    "model.add(Dense(128,activation = 'relu'))\n",
    "model.add(Dropout(0.1))\n",
    "model.add(Dense(64,activation='relu'))\n",
    "model.add(Dropout(0.1))\n",
    "model.add(Dense(1,activation='sigmoid'))\n",
    "\n",
    "model.summary()"
   ]
  },
  {
   "cell_type": "code",
   "execution_count": 27,
   "metadata": {},
   "outputs": [],
   "source": [
    "model.compile(optimizer='adam',loss='binary_crossentropy',metrics=['accuracy'])"
   ]
  },
  {
   "cell_type": "code",
   "execution_count": 28,
   "metadata": {},
   "outputs": [
    {
     "name": "stdout",
     "output_type": "stream",
     "text": [
      "Epoch 1/10\n",
      "\u001b[1m625/625\u001b[0m \u001b[32m━━━━━━━━━━━━━━━━━━━━\u001b[0m\u001b[37m\u001b[0m \u001b[1m619s\u001b[0m 980ms/step - accuracy: 0.5629 - loss: 2.5945 - val_accuracy: 0.5536 - val_loss: 0.8889\n",
      "Epoch 2/10\n",
      "\u001b[1m625/625\u001b[0m \u001b[32m━━━━━━━━━━━━━━━━━━━━\u001b[0m\u001b[37m\u001b[0m \u001b[1m1700s\u001b[0m 3s/step - accuracy: 0.6377 - loss: 0.6561 - val_accuracy: 0.6950 - val_loss: 0.5809\n",
      "Epoch 3/10\n",
      "\u001b[1m625/625\u001b[0m \u001b[32m━━━━━━━━━━━━━━━━━━━━\u001b[0m\u001b[37m\u001b[0m \u001b[1m9528s\u001b[0m 15s/step - accuracy: 0.6946 - loss: 0.5844 - val_accuracy: 0.6828 - val_loss: 0.6439\n",
      "Epoch 4/10\n",
      "\u001b[1m625/625\u001b[0m \u001b[32m━━━━━━━━━━━━━━━━━━━━\u001b[0m\u001b[37m\u001b[0m \u001b[1m39816s\u001b[0m 64s/step - accuracy: 0.7501 - loss: 0.5119 - val_accuracy: 0.5604 - val_loss: 0.6823\n",
      "Epoch 5/10\n",
      "\u001b[1m625/625\u001b[0m \u001b[32m━━━━━━━━━━━━━━━━━━━━\u001b[0m\u001b[37m\u001b[0m \u001b[1m919s\u001b[0m 1s/step - accuracy: 0.7843 - loss: 0.4534 - val_accuracy: 0.6786 - val_loss: 0.6057\n",
      "Epoch 6/10\n",
      "\u001b[1m625/625\u001b[0m \u001b[32m━━━━━━━━━━━━━━━━━━━━\u001b[0m\u001b[37m\u001b[0m \u001b[1m758s\u001b[0m 1s/step - accuracy: 0.8164 - loss: 0.4016 - val_accuracy: 0.7916 - val_loss: 0.4456\n",
      "Epoch 7/10\n",
      "\u001b[1m625/625\u001b[0m \u001b[32m━━━━━━━━━━━━━━━━━━━━\u001b[0m\u001b[37m\u001b[0m \u001b[1m763s\u001b[0m 1s/step - accuracy: 0.8411 - loss: 0.3433 - val_accuracy: 0.7868 - val_loss: 0.4509\n",
      "Epoch 8/10\n",
      "\u001b[1m625/625\u001b[0m \u001b[32m━━━━━━━━━━━━━━━━━━━━\u001b[0m\u001b[37m\u001b[0m \u001b[1m9171s\u001b[0m 15s/step - accuracy: 0.8745 - loss: 0.2762 - val_accuracy: 0.8248 - val_loss: 0.4417\n",
      "Epoch 9/10\n",
      "\u001b[1m625/625\u001b[0m \u001b[32m━━━━━━━━━━━━━━━━━━━━\u001b[0m\u001b[37m\u001b[0m \u001b[1m658s\u001b[0m 1s/step - accuracy: 0.8975 - loss: 0.2290 - val_accuracy: 0.7820 - val_loss: 0.4595\n",
      "Epoch 10/10\n",
      "\u001b[1m625/625\u001b[0m \u001b[32m━━━━━━━━━━━━━━━━━━━━\u001b[0m\u001b[37m\u001b[0m \u001b[1m728s\u001b[0m 1s/step - accuracy: 0.9202 - loss: 0.1829 - val_accuracy: 0.7988 - val_loss: 0.8319\n"
     ]
    }
   ],
   "source": [
    "history = model.fit(train_ds,epochs=10,validation_data=validation_ds)"
   ]
  },
  {
   "cell_type": "code",
   "execution_count": 30,
   "metadata": {},
   "outputs": [
    {
     "data": {
      "image/png": "[encoded data removed]",
      "text/plain": [
       "<Figure size 640x480 with 1 Axes>"
      ]
     },
     "metadata": {},
     "output_type": "display_data"
    }
   ],
   "source": [
    "import matplotlib.pyplot as plt\n",
    "plt.plot(history.history['accuracy'],color='red',label='train')\n",
    "plt.plot(history.history['val_accuracy'],color='blue',label='validation')\n",
    "plt.legend()\n",
    "plt.show()"
   ]
  },
  {
   "cell_type": "code",
   "execution_count": 31,
   "metadata": {},
   "outputs": [
    {
     "data": {
      "image/png": "[encoded data removed]",
      "text/plain": [
       "<Figure size 640x480 with 1 Axes>"
      ]
     },
     "metadata": {},
     "output_type": "display_data"
    }
   ],
   "source": [
    "plt.plot(history.history['loss'],color='red',label='train')\n",
    "plt.plot(history.history['val_loss'],color='blue',label='validation')\n",
    "plt.legend()\n",
    "plt.show()"
   ]
  },
  {
   "cell_type": "code",
   "execution_count": null,
   "metadata": {},
   "outputs": [],
   "source": [
    "#ways to reduce overfitting\n",
    "\n",
    "#Add more data\n",
    "#Data Augmentation\n",
    "#L1/L2 Regularizer\n",
    "#Dropout\n",
    "#Batch Norm\n",
    "#Reduce Complexity"
   ]
  },
  {
   "cell_type": "code",
   "execution_count": 34,
   "metadata": {},
   "outputs": [
    {
     "name": "stdout",
     "output_type": "stream",
     "text": [
      "Collecting opencv-pythonNote: you may need to restart the kernel to use updated packages.\n"
     ]
    },
    {
     "name": "stderr",
     "output_type": "stream",
     "text": [
      "WARNING: Retrying (Retry(total=4, connect=None, read=None, redirect=None, status=None)) after connection broken by 'NewConnectionError('<pip._vendor.urllib3.connection.HTTPSConnection object at 0x0000023665BAEE90>: Failed to establish a new connection: [WinError 10051] A socket operation was attempted to an unreachable network')': /simple/opencv-python/\n",
      "  WARNING: Retrying (Retry(total=4, connect=None, read=None, redirect=None, status=None)) after connection broken by 'NewConnectionError('<pip._vendor.urllib3.connection.HTTPSConnection object at 0x0000023666C4FE50>: Failed to establish a new connection: [WinError 10051] A socket operation was attempted to an unreachable network')': /packages/ec/6c/fab8113424af5049f85717e8e527ca3773299a3c6b02506e66436e19874f/opencv_python-4.10.0.84-cp37-abi3-win_amd64.whl.metadata\n",
      "  WARNING: Retrying (Retry(total=3, connect=None, read=None, redirect=None, status=None)) after connection broken by 'NewConnectionError('<pip._vendor.urllib3.connection.HTTPSConnection object at 0x0000023666C60650>: Failed to establish a new connection: [Errno 11001] getaddrinfo failed')': /packages/ec/6c/fab8113424af5049f85717e8e527ca3773299a3c6b02506e66436e19874f/opencv_python-4.10.0.84-cp37-abi3-win_amd64.whl.metadata\n",
      "  WARNING: Retrying (Retry(total=2, connect=None, read=None, redirect=None, status=None)) after connection broken by 'NewConnectionError('<pip._vendor.urllib3.connection.HTTPSConnection object at 0x0000023666C61150>: Failed to establish a new connection: [Errno 11001] getaddrinfo failed')': /packages/ec/6c/fab8113424af5049f85717e8e527ca3773299a3c6b02506e66436e19874f/opencv_python-4.10.0.84-cp37-abi3-win_amd64.whl.metadata\n",
      "  WARNING: Retrying (Retry(total=1, connect=None, read=None, redirect=None, status=None)) after connection broken by 'NewConnectionError('<pip._vendor.urllib3.connection.HTTPSConnection object at 0x0000023666C61A10>: Failed to establish a new connection: [Errno 11001] getaddrinfo failed')': /packages/ec/6c/fab8113424af5049f85717e8e527ca3773299a3c6b02506e66436e19874f/opencv_python-4.10.0.84-cp37-abi3-win_amd64.whl.metadata\n",
      "  WARNING: Retrying (Retry(total=0, connect=None, read=None, redirect=None, status=None)) after connection broken by 'NewConnectionError('<pip._vendor.urllib3.connection.HTTPSConnection object at 0x0000023666C62410>: Failed to establish a new connection: [Errno 11001] getaddrinfo failed')': /packages/ec/6c/fab8113424af5049f85717e8e527ca3773299a3c6b02506e66436e19874f/opencv_python-4.10.0.84-cp37-abi3-win_amd64.whl.metadata\n"
     ]
    },
    {
     "name": "stdout",
     "output_type": "stream",
     "text": [
      "\n",
      "  Downloading opencv_python-4.10.0.84-cp37-abi3-win_amd64.whl.metadata (20 kB)\n",
      "Requirement already satisfied: numpy>=1.21.2 in c:\\users\\prach\\anaconda3\\lib\\site-packages (from opencv-python) (1.24.3)\n",
      "Downloading opencv_python-4.10.0.84-cp37-abi3-win_amd64.whl (38.8 MB)\n",
      "   ---------------------------------------- 0.0/38.8 MB ? eta -:--:--\n",
      "   ---------------------------------------- 0.0/38.8 MB ? eta -:--:--\n",
      "   ---------------------------------------- 0.0/38.8 MB 991.0 kB/s eta 0:00:40\n",
      "   ---------------------------------------- 0.1/38.8 MB 1.1 MB/s eta 0:00:36\n",
      "   ---------------------------------------- 0.2/38.8 MB 1.5 MB/s eta 0:00:26\n",
      "   ---------------------------------------- 0.3/38.8 MB 1.7 MB/s eta 0:00:23\n",
      "   ---------------------------------------- 0.5/38.8 MB 2.1 MB/s eta 0:00:19\n",
      "    --------------------------------------- 0.6/38.8 MB 2.2 MB/s eta 0:00:18\n",
      "    --------------------------------------- 0.8/38.8 MB 2.5 MB/s eta 0:00:16\n",
      "    --------------------------------------- 0.9/38.8 MB 2.4 MB/s eta 0:00:16\n",
      "   - -------------------------------------- 1.1/38.8 MB 2.6 MB/s eta 0:00:15\n",
      "   - -------------------------------------- 1.2/38.8 MB 2.5 MB/s eta 0:00:15\n",
      "   - -------------------------------------- 1.4/38.8 MB 2.8 MB/s eta 0:00:14\n",
      "   - -------------------------------------- 1.6/38.8 MB 2.9 MB/s eta 0:00:14\n",
      "   - -------------------------------------- 1.7/38.8 MB 2.8 MB/s eta 0:00:14\n",
      "   - -------------------------------------- 1.9/38.8 MB 3.0 MB/s eta 0:00:13\n",
      "   -- ------------------------------------- 2.1/38.8 MB 3.0 MB/s eta 0:00:13\n",
      "   -- ------------------------------------- 2.2/38.8 MB 3.1 MB/s eta 0:00:12\n",
      "   -- ------------------------------------- 2.4/38.8 MB 3.1 MB/s eta 0:00:12\n",
      "   -- ------------------------------------- 2.5/38.8 MB 3.0 MB/s eta 0:00:13\n",
      "   -- ------------------------------------- 2.8/38.8 MB 3.0 MB/s eta 0:00:13\n",
      "   --- ------------------------------------ 3.0/38.8 MB 3.1 MB/s eta 0:00:12\n",
      "   --- ------------------------------------ 3.2/38.8 MB 3.2 MB/s eta 0:00:12\n",
      "   --- ------------------------------------ 3.3/38.8 MB 3.3 MB/s eta 0:00:11\n",
      "   --- ------------------------------------ 3.4/38.8 MB 3.1 MB/s eta 0:00:12\n",
      "   --- ------------------------------------ 3.7/38.8 MB 3.2 MB/s eta 0:00:11\n",
      "   ---- ----------------------------------- 3.9/38.8 MB 3.3 MB/s eta 0:00:11\n",
      "   ---- ----------------------------------- 4.2/38.8 MB 3.4 MB/s eta 0:00:11\n",
      "   ---- ----------------------------------- 4.4/38.8 MB 3.4 MB/s eta 0:00:11\n",
      "   ---- ----------------------------------- 4.7/38.8 MB 3.6 MB/s eta 0:00:10\n",
      "   ----- ---------------------------------- 4.9/38.8 MB 3.6 MB/s eta 0:00:10\n",
      "   ----- ---------------------------------- 5.2/38.8 MB 3.7 MB/s eta 0:00:10\n",
      "   ----- ---------------------------------- 5.3/38.8 MB 3.7 MB/s eta 0:00:10\n",
      "   ----- ---------------------------------- 5.4/38.8 MB 3.5 MB/s eta 0:00:10\n",
      "   ----- ---------------------------------- 5.6/38.8 MB 3.6 MB/s eta 0:00:10\n",
      "   ----- ---------------------------------- 5.7/38.8 MB 3.6 MB/s eta 0:00:10\n",
      "   ------ --------------------------------- 5.9/38.8 MB 3.6 MB/s eta 0:00:10\n",
      "   ------ --------------------------------- 6.2/38.8 MB 3.6 MB/s eta 0:00:09\n",
      "   ------ --------------------------------- 6.4/38.8 MB 3.7 MB/s eta 0:00:09\n",
      "   ------ --------------------------------- 6.7/38.8 MB 3.7 MB/s eta 0:00:09\n",
      "   ------- -------------------------------- 7.0/38.8 MB 3.8 MB/s eta 0:00:09\n",
      "   ------- -------------------------------- 7.3/38.8 MB 3.8 MB/s eta 0:00:09\n",
      "   ------- -------------------------------- 7.6/38.8 MB 3.9 MB/s eta 0:00:08\n",
      "   -------- ------------------------------- 7.9/38.8 MB 4.0 MB/s eta 0:00:08\n",
      "   -------- ------------------------------- 8.2/38.8 MB 4.0 MB/s eta 0:00:08\n",
      "   -------- ------------------------------- 8.4/38.8 MB 4.1 MB/s eta 0:00:08\n",
      "   -------- ------------------------------- 8.5/38.8 MB 4.0 MB/s eta 0:00:08\n",
      "   -------- ------------------------------- 8.7/38.8 MB 4.0 MB/s eta 0:00:08\n",
      "   --------- ------------------------------ 8.8/38.8 MB 4.0 MB/s eta 0:00:08\n",
      "   --------- ------------------------------ 9.1/38.8 MB 4.0 MB/s eta 0:00:08\n",
      "   --------- ------------------------------ 9.4/38.8 MB 4.1 MB/s eta 0:00:08\n",
      "   ---------- ----------------------------- 9.7/38.8 MB 4.1 MB/s eta 0:00:08\n",
      "   ---------- ----------------------------- 9.8/38.8 MB 4.1 MB/s eta 0:00:08\n",
      "   ---------- ----------------------------- 10.1/38.8 MB 4.1 MB/s eta 0:00:07\n",
      "   ---------- ----------------------------- 10.4/38.8 MB 4.3 MB/s eta 0:00:07\n",
      "   ----------- ---------------------------- 10.7/38.8 MB 4.4 MB/s eta 0:00:07\n",
      "   ----------- ---------------------------- 11.0/38.8 MB 4.5 MB/s eta 0:00:07\n",
      "   ----------- ---------------------------- 11.3/38.8 MB 4.6 MB/s eta 0:00:06\n",
      "   ----------- ---------------------------- 11.6/38.8 MB 4.6 MB/s eta 0:00:06\n",
      "   ------------ --------------------------- 11.8/38.8 MB 4.7 MB/s eta 0:00:06\n",
      "   ------------ --------------------------- 12.0/38.8 MB 4.7 MB/s eta 0:00:06\n",
      "   ------------ --------------------------- 12.3/38.8 MB 4.8 MB/s eta 0:00:06\n",
      "   ------------ --------------------------- 12.4/38.8 MB 4.8 MB/s eta 0:00:06\n",
      "   ------------- -------------------------- 12.6/38.8 MB 4.8 MB/s eta 0:00:06\n",
      "   ------------- -------------------------- 12.8/38.8 MB 5.0 MB/s eta 0:00:06\n",
      "   ------------- -------------------------- 13.1/38.8 MB 5.0 MB/s eta 0:00:06\n",
      "   ------------- -------------------------- 13.4/38.8 MB 5.0 MB/s eta 0:00:06\n",
      "   -------------- ------------------------- 13.7/38.8 MB 5.1 MB/s eta 0:00:05\n",
      "   -------------- ------------------------- 14.0/38.8 MB 5.2 MB/s eta 0:00:05\n",
      "   -------------- ------------------------- 14.3/38.8 MB 5.2 MB/s eta 0:00:05\n",
      "   --------------- ------------------------ 14.6/38.8 MB 5.2 MB/s eta 0:00:05\n",
      "   --------------- ------------------------ 15.0/38.8 MB 5.3 MB/s eta 0:00:05\n",
      "   --------------- ------------------------ 15.2/38.8 MB 5.3 MB/s eta 0:00:05\n",
      "   ---------------- ----------------------- 15.5/38.8 MB 5.5 MB/s eta 0:00:05\n",
      "   ---------------- ----------------------- 15.8/38.8 MB 5.5 MB/s eta 0:00:05\n",
      "   ---------------- ----------------------- 16.1/38.8 MB 5.6 MB/s eta 0:00:05\n",
      "   ---------------- ----------------------- 16.4/38.8 MB 5.6 MB/s eta 0:00:04\n",
      "   ----------------- ---------------------- 16.7/38.8 MB 5.7 MB/s eta 0:00:04\n",
      "   ----------------- ---------------------- 16.9/38.8 MB 5.7 MB/s eta 0:00:04\n",
      "   ----------------- ---------------------- 17.1/38.8 MB 5.6 MB/s eta 0:00:04\n",
      "   ----------------- ---------------------- 17.2/38.8 MB 5.6 MB/s eta 0:00:04\n",
      "   ----------------- ---------------------- 17.4/38.8 MB 5.5 MB/s eta 0:00:04\n",
      "   ------------------ --------------------- 17.6/38.8 MB 5.5 MB/s eta 0:00:04\n",
      "   ------------------ --------------------- 17.9/38.8 MB 5.5 MB/s eta 0:00:04\n",
      "   ------------------ --------------------- 18.3/38.8 MB 5.5 MB/s eta 0:00:04\n",
      "   ------------------- -------------------- 18.6/38.8 MB 5.5 MB/s eta 0:00:04\n",
      "   ------------------- -------------------- 18.9/38.8 MB 5.8 MB/s eta 0:00:04\n",
      "   ------------------- -------------------- 19.2/38.8 MB 5.9 MB/s eta 0:00:04\n",
      "   -------------------- ------------------- 19.5/38.8 MB 5.9 MB/s eta 0:00:04\n",
      "   -------------------- ------------------- 19.8/38.8 MB 5.9 MB/s eta 0:00:04\n",
      "   -------------------- ------------------- 20.2/38.8 MB 6.0 MB/s eta 0:00:04\n",
      "   --------------------- ------------------ 20.5/38.8 MB 6.1 MB/s eta 0:00:04\n",
      "   --------------------- ------------------ 20.8/38.8 MB 6.0 MB/s eta 0:00:04\n",
      "   --------------------- ------------------ 21.1/38.8 MB 6.1 MB/s eta 0:00:03\n",
      "   ---------------------- ----------------- 21.4/38.8 MB 6.1 MB/s eta 0:00:03\n",
      "   ---------------------- ----------------- 21.5/38.8 MB 6.0 MB/s eta 0:00:03\n",
      "   ---------------------- ----------------- 21.8/38.8 MB 6.0 MB/s eta 0:00:03\n",
      "   ---------------------- ----------------- 22.0/38.8 MB 6.0 MB/s eta 0:00:03\n",
      "   ---------------------- ----------------- 22.3/38.8 MB 6.0 MB/s eta 0:00:03\n",
      "   ----------------------- ---------------- 22.6/38.8 MB 5.9 MB/s eta 0:00:03\n",
      "   ----------------------- ---------------- 23.0/38.8 MB 6.0 MB/s eta 0:00:03\n",
      "   ----------------------- ---------------- 23.3/38.8 MB 6.2 MB/s eta 0:00:03\n",
      "   ------------------------ --------------- 23.6/38.8 MB 6.2 MB/s eta 0:00:03\n",
      "   ------------------------ --------------- 23.9/38.8 MB 6.2 MB/s eta 0:00:03\n",
      "   ------------------------ --------------- 24.3/38.8 MB 6.2 MB/s eta 0:00:03\n",
      "   ------------------------- -------------- 24.6/38.8 MB 6.2 MB/s eta 0:00:03\n",
      "   ------------------------- -------------- 24.9/38.8 MB 6.2 MB/s eta 0:00:03\n",
      "   ------------------------- -------------- 25.1/38.8 MB 6.2 MB/s eta 0:00:03\n",
      "   -------------------------- ------------- 25.4/38.8 MB 6.2 MB/s eta 0:00:03\n",
      "   -------------------------- ------------- 25.7/38.8 MB 6.2 MB/s eta 0:00:03\n",
      "   -------------------------- ------------- 25.9/38.8 MB 6.2 MB/s eta 0:00:03\n",
      "   -------------------------- ------------- 26.2/38.8 MB 6.1 MB/s eta 0:00:03\n",
      "   --------------------------- ------------ 26.3/38.8 MB 6.0 MB/s eta 0:00:03\n",
      "   --------------------------- ------------ 26.6/38.8 MB 6.0 MB/s eta 0:00:03\n",
      "   --------------------------- ------------ 27.0/38.8 MB 6.0 MB/s eta 0:00:02\n",
      "   ---------------------------- ----------- 27.2/38.8 MB 6.1 MB/s eta 0:00:02\n",
      "   ---------------------------- ----------- 27.6/38.8 MB 6.2 MB/s eta 0:00:02\n",
      "   ---------------------------- ----------- 27.9/38.8 MB 6.3 MB/s eta 0:00:02\n",
      "   ----------------------------- ---------- 28.2/38.8 MB 6.3 MB/s eta 0:00:02\n",
      "   ----------------------------- ---------- 28.6/38.8 MB 6.3 MB/s eta 0:00:02\n",
      "   ----------------------------- ---------- 28.9/38.8 MB 6.2 MB/s eta 0:00:02\n",
      "   ------------------------------ --------- 29.2/38.8 MB 6.3 MB/s eta 0:00:02\n",
      "   ------------------------------ --------- 29.6/38.8 MB 6.3 MB/s eta 0:00:02\n",
      "   ------------------------------ --------- 29.9/38.8 MB 6.2 MB/s eta 0:00:02\n",
      "   ------------------------------- -------- 30.2/38.8 MB 6.2 MB/s eta 0:00:02\n",
      "   ------------------------------- -------- 30.5/38.8 MB 6.2 MB/s eta 0:00:02\n",
      "   ------------------------------- -------- 30.8/38.8 MB 6.2 MB/s eta 0:00:02\n",
      "   ------------------------------- -------- 30.9/38.8 MB 6.3 MB/s eta 0:00:02\n",
      "   -------------------------------- ------- 31.2/38.8 MB 6.1 MB/s eta 0:00:02\n",
      "   -------------------------------- ------- 31.3/38.8 MB 6.1 MB/s eta 0:00:02\n",
      "   -------------------------------- ------- 31.7/38.8 MB 6.1 MB/s eta 0:00:02\n",
      "   -------------------------------- ------- 32.0/38.8 MB 6.1 MB/s eta 0:00:02\n",
      "   --------------------------------- ------ 32.3/38.8 MB 6.2 MB/s eta 0:00:02\n",
      "   --------------------------------- ------ 32.6/38.8 MB 6.3 MB/s eta 0:00:01\n",
      "   --------------------------------- ------ 32.9/38.8 MB 6.3 MB/s eta 0:00:01\n",
      "   ---------------------------------- ----- 33.3/38.8 MB 6.3 MB/s eta 0:00:01\n",
      "   ---------------------------------- ----- 33.6/38.8 MB 6.3 MB/s eta 0:00:01\n",
      "   ---------------------------------- ----- 33.9/38.8 MB 6.3 MB/s eta 0:00:01\n",
      "   ----------------------------------- ---- 34.1/38.8 MB 6.4 MB/s eta 0:00:01\n",
      "   ----------------------------------- ---- 34.5/38.8 MB 6.3 MB/s eta 0:00:01\n",
      "   ----------------------------------- ---- 34.8/38.8 MB 6.3 MB/s eta 0:00:01\n",
      "   ----------------------------------- ---- 34.9/38.8 MB 6.2 MB/s eta 0:00:01\n",
      "   ------------------------------------ --- 35.2/38.8 MB 6.2 MB/s eta 0:00:01\n",
      "   ------------------------------------ --- 35.4/38.8 MB 6.1 MB/s eta 0:00:01\n",
      "   ------------------------------------ --- 35.7/38.8 MB 6.1 MB/s eta 0:00:01\n",
      "   ------------------------------------- -- 36.0/38.8 MB 6.1 MB/s eta 0:00:01\n",
      "   ------------------------------------- -- 36.3/38.8 MB 6.2 MB/s eta 0:00:01\n",
      "   ------------------------------------- -- 36.6/38.8 MB 6.3 MB/s eta 0:00:01\n",
      "   -------------------------------------- - 36.9/38.8 MB 6.3 MB/s eta 0:00:01\n",
      "   -------------------------------------- - 37.3/38.8 MB 6.3 MB/s eta 0:00:01\n",
      "   -------------------------------------- - 37.7/38.8 MB 6.3 MB/s eta 0:00:01\n",
      "   ---------------------------------------  38.0/38.8 MB 6.4 MB/s eta 0:00:01\n",
      "   ---------------------------------------  38.3/38.8 MB 6.3 MB/s eta 0:00:01\n",
      "   ---------------------------------------  38.6/38.8 MB 6.3 MB/s eta 0:00:01\n",
      "   ---------------------------------------  38.8/38.8 MB 6.3 MB/s eta 0:00:01\n",
      "   ---------------------------------------  38.8/38.8 MB 6.3 MB/s eta 0:00:01\n",
      "   ---------------------------------------  38.8/38.8 MB 6.3 MB/s eta 0:00:01\n",
      "   ---------------------------------------  38.8/38.8 MB 6.3 MB/s eta 0:00:01\n",
      "   ---------------------------------------- 38.8/38.8 MB 5.7 MB/s eta 0:00:00\n",
      "Installing collected packages: opencv-python\n",
      "Successfully installed opencv-python-4.10.0.84\n"
     ]
    }
   ],
   "source": [
    "pip install opencv-python"
   ]
  },
  {
   "cell_type": "code",
   "execution_count": 35,
   "metadata": {},
   "outputs": [
    {
     "name": "stdout",
     "output_type": "stream",
     "text": [
      "Collecting opencv-python-headless\n",
      "  Downloading opencv_python_headless-4.10.0.84-cp37-abi3-win_amd64.whl.metadata (20 kB)\n",
      "Requirement already satisfied: numpy>=1.21.2 in c:\\users\\prach\\anaconda3\\lib\\site-packages (from opencv-python-headless) (1.24.3)\n",
      "Downloading opencv_python_headless-4.10.0.84-cp37-abi3-win_amd64.whl (38.8 MB)\n",
      "   ---------------------------------------- 0.0/38.8 MB ? eta -:--:--\n",
      "   ---------------------------------------- 0.0/38.8 MB ? eta -:--:--\n",
      "   ---------------------------------------- 0.1/38.8 MB 1.4 MB/s eta 0:00:27\n",
      "   ---------------------------------------- 0.2/38.8 MB 2.2 MB/s eta 0:00:18\n",
      "   ---------------------------------------- 0.3/38.8 MB 2.0 MB/s eta 0:00:20\n",
      "   ---------------------------------------- 0.5/38.8 MB 2.3 MB/s eta 0:00:17\n",
      "    --------------------------------------- 0.7/38.8 MB 2.6 MB/s eta 0:00:15\n",
      "    --------------------------------------- 0.8/38.8 MB 2.9 MB/s eta 0:00:14\n",
      "    --------------------------------------- 1.0/38.8 MB 3.1 MB/s eta 0:00:13\n",
      "   - -------------------------------------- 1.2/38.8 MB 3.3 MB/s eta 0:00:12\n",
      "   - -------------------------------------- 1.2/38.8 MB 3.3 MB/s eta 0:00:12\n",
      "   - -------------------------------------- 1.3/38.8 MB 2.9 MB/s eta 0:00:13\n",
      "   - -------------------------------------- 1.5/38.8 MB 3.1 MB/s eta 0:00:12\n",
      "   - -------------------------------------- 1.6/38.8 MB 3.1 MB/s eta 0:00:12\n",
      "   - -------------------------------------- 1.8/38.8 MB 3.1 MB/s eta 0:00:12\n",
      "   - -------------------------------------- 1.9/38.8 MB 3.1 MB/s eta 0:00:12\n",
      "   -- ------------------------------------- 2.1/38.8 MB 3.2 MB/s eta 0:00:12\n",
      "   -- ------------------------------------- 2.3/38.8 MB 3.2 MB/s eta 0:00:12\n",
      "   -- ------------------------------------- 2.5/38.8 MB 3.3 MB/s eta 0:00:12\n",
      "   -- ------------------------------------- 2.7/38.8 MB 3.3 MB/s eta 0:00:11\n",
      "   --- ------------------------------------ 3.0/38.8 MB 3.5 MB/s eta 0:00:11\n",
      "   --- ------------------------------------ 3.1/38.8 MB 3.6 MB/s eta 0:00:10\n",
      "   --- ------------------------------------ 3.3/38.8 MB 3.5 MB/s eta 0:00:11\n",
      "   --- ------------------------------------ 3.5/38.8 MB 3.6 MB/s eta 0:00:10\n",
      "   --- ------------------------------------ 3.7/38.8 MB 3.7 MB/s eta 0:00:10\n",
      "   ---- ----------------------------------- 3.9/38.8 MB 3.7 MB/s eta 0:00:10\n",
      "   ---- ----------------------------------- 4.2/38.8 MB 3.8 MB/s eta 0:00:10\n",
      "   ---- ----------------------------------- 4.4/38.8 MB 3.8 MB/s eta 0:00:09\n",
      "   ---- ----------------------------------- 4.6/38.8 MB 3.9 MB/s eta 0:00:09\n",
      "   ---- ----------------------------------- 4.8/38.8 MB 4.0 MB/s eta 0:00:09\n",
      "   ----- ---------------------------------- 5.1/38.8 MB 4.0 MB/s eta 0:00:09\n",
      "   ----- ---------------------------------- 5.4/38.8 MB 4.1 MB/s eta 0:00:09\n",
      "   ----- ---------------------------------- 5.6/38.8 MB 4.2 MB/s eta 0:00:08\n",
      "   ----- ---------------------------------- 5.6/38.8 MB 4.1 MB/s eta 0:00:09\n",
      "   ------ --------------------------------- 5.9/38.8 MB 4.1 MB/s eta 0:00:09\n",
      "   ------ --------------------------------- 6.1/38.8 MB 4.2 MB/s eta 0:00:08\n",
      "   ------ --------------------------------- 6.3/38.8 MB 4.1 MB/s eta 0:00:08\n",
      "   ------ --------------------------------- 6.5/38.8 MB 4.2 MB/s eta 0:00:08\n",
      "   ------ --------------------------------- 6.7/38.8 MB 4.2 MB/s eta 0:00:08\n",
      "   ------- -------------------------------- 6.8/38.8 MB 4.1 MB/s eta 0:00:08\n",
      "   ------- -------------------------------- 7.2/38.8 MB 4.3 MB/s eta 0:00:08\n",
      "   ------- -------------------------------- 7.5/38.8 MB 4.3 MB/s eta 0:00:08\n",
      "   ------- -------------------------------- 7.6/38.8 MB 4.3 MB/s eta 0:00:08\n",
      "   -------- ------------------------------- 7.8/38.8 MB 4.2 MB/s eta 0:00:08\n",
      "   -------- ------------------------------- 8.0/38.8 MB 4.3 MB/s eta 0:00:08\n",
      "   -------- ------------------------------- 8.3/38.8 MB 4.3 MB/s eta 0:00:08\n",
      "   -------- ------------------------------- 8.6/38.8 MB 4.4 MB/s eta 0:00:07\n",
      "   --------- ------------------------------ 8.8/38.8 MB 4.4 MB/s eta 0:00:07\n",
      "   --------- ------------------------------ 9.1/38.8 MB 4.5 MB/s eta 0:00:07\n",
      "   --------- ------------------------------ 9.3/38.8 MB 4.5 MB/s eta 0:00:07\n",
      "   --------- ------------------------------ 9.6/38.8 MB 4.5 MB/s eta 0:00:07\n",
      "   ---------- ----------------------------- 9.8/38.8 MB 4.5 MB/s eta 0:00:07\n",
      "   ---------- ----------------------------- 10.1/38.8 MB 4.6 MB/s eta 0:00:07\n",
      "   ---------- ----------------------------- 10.3/38.8 MB 4.7 MB/s eta 0:00:07\n",
      "   ---------- ----------------------------- 10.6/38.8 MB 4.9 MB/s eta 0:00:06\n",
      "   ----------- ---------------------------- 10.9/38.8 MB 4.9 MB/s eta 0:00:06\n",
      "   ----------- ---------------------------- 11.1/38.8 MB 5.0 MB/s eta 0:00:06\n",
      "   ----------- ---------------------------- 11.3/38.8 MB 5.0 MB/s eta 0:00:06\n",
      "   ----------- ---------------------------- 11.6/38.8 MB 5.1 MB/s eta 0:00:06\n",
      "   ------------ --------------------------- 11.8/38.8 MB 5.1 MB/s eta 0:00:06\n",
      "   ------------ --------------------------- 12.1/38.8 MB 5.2 MB/s eta 0:00:06\n",
      "   ------------ --------------------------- 12.3/38.8 MB 5.3 MB/s eta 0:00:06\n",
      "   ------------ --------------------------- 12.6/38.8 MB 5.4 MB/s eta 0:00:05\n",
      "   ------------- -------------------------- 12.8/38.8 MB 5.5 MB/s eta 0:00:05\n",
      "   ------------- -------------------------- 13.1/38.8 MB 5.4 MB/s eta 0:00:05\n",
      "   ------------- -------------------------- 13.2/38.8 MB 5.4 MB/s eta 0:00:05\n",
      "   ------------- -------------------------- 13.5/38.8 MB 5.5 MB/s eta 0:00:05\n",
      "   -------------- ------------------------- 13.7/38.8 MB 5.5 MB/s eta 0:00:05\n",
      "   -------------- ------------------------- 13.9/38.8 MB 5.4 MB/s eta 0:00:05\n",
      "   -------------- ------------------------- 14.1/38.8 MB 5.4 MB/s eta 0:00:05\n",
      "   -------------- ------------------------- 14.4/38.8 MB 5.4 MB/s eta 0:00:05\n",
      "   --------------- ------------------------ 14.7/38.8 MB 5.5 MB/s eta 0:00:05\n",
      "   --------------- ------------------------ 14.9/38.8 MB 5.4 MB/s eta 0:00:05\n",
      "   --------------- ------------------------ 15.1/38.8 MB 5.4 MB/s eta 0:00:05\n",
      "   --------------- ------------------------ 15.4/38.8 MB 5.4 MB/s eta 0:00:05\n",
      "   ---------------- ----------------------- 15.6/38.8 MB 5.4 MB/s eta 0:00:05\n",
      "   ---------------- ----------------------- 15.9/38.8 MB 5.5 MB/s eta 0:00:05\n",
      "   ---------------- ----------------------- 16.1/38.8 MB 5.5 MB/s eta 0:00:05\n",
      "   ---------------- ----------------------- 16.4/38.8 MB 5.6 MB/s eta 0:00:05\n",
      "   ----------------- ---------------------- 16.7/38.8 MB 5.6 MB/s eta 0:00:04\n",
      "   ----------------- ---------------------- 17.0/38.8 MB 5.6 MB/s eta 0:00:04\n",
      "   ----------------- ---------------------- 17.3/38.8 MB 5.7 MB/s eta 0:00:04\n",
      "   ------------------ --------------------- 17.6/38.8 MB 5.7 MB/s eta 0:00:04\n",
      "   ------------------ --------------------- 17.8/38.8 MB 5.7 MB/s eta 0:00:04\n",
      "   ------------------ --------------------- 18.1/38.8 MB 5.7 MB/s eta 0:00:04\n",
      "   ------------------ --------------------- 18.3/38.8 MB 5.7 MB/s eta 0:00:04\n",
      "   ------------------- -------------------- 18.5/38.8 MB 5.7 MB/s eta 0:00:04\n",
      "   ------------------- -------------------- 18.9/38.8 MB 5.7 MB/s eta 0:00:04\n",
      "   ------------------- -------------------- 18.9/38.8 MB 5.7 MB/s eta 0:00:04\n",
      "   ------------------- -------------------- 19.0/38.8 MB 5.6 MB/s eta 0:00:04\n",
      "   -------------------- ------------------- 19.5/38.8 MB 5.6 MB/s eta 0:00:04\n",
      "   -------------------- ------------------- 19.7/38.8 MB 5.6 MB/s eta 0:00:04\n",
      "   -------------------- ------------------- 20.0/38.8 MB 5.6 MB/s eta 0:00:04\n",
      "   -------------------- ------------------- 20.2/38.8 MB 5.6 MB/s eta 0:00:04\n",
      "   --------------------- ------------------ 20.4/38.8 MB 5.6 MB/s eta 0:00:04\n",
      "   --------------------- ------------------ 20.6/38.8 MB 5.6 MB/s eta 0:00:04\n",
      "   --------------------- ------------------ 20.9/38.8 MB 5.6 MB/s eta 0:00:04\n",
      "   --------------------- ------------------ 21.2/38.8 MB 5.5 MB/s eta 0:00:04\n",
      "   ---------------------- ----------------- 21.4/38.8 MB 5.5 MB/s eta 0:00:04\n",
      "   ---------------------- ----------------- 21.7/38.8 MB 5.6 MB/s eta 0:00:04\n",
      "   ---------------------- ----------------- 21.7/38.8 MB 5.5 MB/s eta 0:00:04\n",
      "   ---------------------- ----------------- 22.0/38.8 MB 5.5 MB/s eta 0:00:04\n",
      "   ---------------------- ----------------- 22.2/38.8 MB 5.5 MB/s eta 0:00:04\n",
      "   ----------------------- ---------------- 22.4/38.8 MB 5.5 MB/s eta 0:00:03\n",
      "   ----------------------- ---------------- 22.8/38.8 MB 5.5 MB/s eta 0:00:03\n",
      "   ----------------------- ---------------- 23.0/38.8 MB 5.5 MB/s eta 0:00:03\n",
      "   ------------------------ --------------- 23.3/38.8 MB 5.5 MB/s eta 0:00:03\n",
      "   ------------------------ --------------- 23.6/38.8 MB 5.6 MB/s eta 0:00:03\n",
      "   ------------------------ --------------- 23.8/38.8 MB 5.5 MB/s eta 0:00:03\n",
      "   ------------------------ --------------- 24.0/38.8 MB 5.6 MB/s eta 0:00:03\n",
      "   ------------------------- -------------- 24.4/38.8 MB 5.6 MB/s eta 0:00:03\n",
      "   ------------------------- -------------- 24.6/38.8 MB 5.6 MB/s eta 0:00:03\n",
      "   ------------------------- -------------- 24.9/38.8 MB 5.6 MB/s eta 0:00:03\n",
      "   ------------------------- -------------- 24.9/38.8 MB 5.6 MB/s eta 0:00:03\n",
      "   ------------------------- -------------- 25.1/38.8 MB 5.5 MB/s eta 0:00:03\n",
      "   -------------------------- ------------- 25.4/38.8 MB 5.5 MB/s eta 0:00:03\n",
      "   -------------------------- ------------- 25.4/38.8 MB 5.5 MB/s eta 0:00:03\n",
      "   -------------------------- ------------- 25.7/38.8 MB 5.5 MB/s eta 0:00:03\n",
      "   -------------------------- ------------- 26.0/38.8 MB 5.5 MB/s eta 0:00:03\n",
      "   -------------------------- ------------- 26.1/38.8 MB 5.4 MB/s eta 0:00:03\n",
      "   --------------------------- ------------ 26.4/38.8 MB 5.4 MB/s eta 0:00:03\n",
      "   --------------------------- ------------ 26.6/38.8 MB 5.5 MB/s eta 0:00:03\n",
      "   --------------------------- ------------ 26.9/38.8 MB 5.5 MB/s eta 0:00:03\n",
      "   --------------------------- ------------ 27.0/38.8 MB 5.4 MB/s eta 0:00:03\n",
      "   --------------------------- ------------ 27.0/38.8 MB 5.4 MB/s eta 0:00:03\n",
      "   ---------------------------- ----------- 27.5/38.8 MB 5.4 MB/s eta 0:00:03\n",
      "   ---------------------------- ----------- 27.7/38.8 MB 5.3 MB/s eta 0:00:03\n",
      "   ---------------------------- ----------- 27.9/38.8 MB 5.2 MB/s eta 0:00:03\n",
      "   ----------------------------- ---------- 28.1/38.8 MB 5.3 MB/s eta 0:00:02\n",
      "   ----------------------------- ---------- 28.2/38.8 MB 5.3 MB/s eta 0:00:03\n",
      "   ----------------------------- ---------- 28.5/38.8 MB 5.2 MB/s eta 0:00:02\n",
      "   ----------------------------- ---------- 28.7/38.8 MB 5.2 MB/s eta 0:00:02\n",
      "   ----------------------------- ---------- 28.8/38.8 MB 5.2 MB/s eta 0:00:02\n",
      "   ----------------------------- ---------- 29.0/38.8 MB 5.1 MB/s eta 0:00:02\n",
      "   ------------------------------ --------- 29.2/38.8 MB 5.3 MB/s eta 0:00:02\n",
      "   ------------------------------ --------- 29.3/38.8 MB 5.2 MB/s eta 0:00:02\n",
      "   ------------------------------ --------- 29.5/38.8 MB 5.1 MB/s eta 0:00:02\n",
      "   ------------------------------ --------- 29.6/38.8 MB 5.0 MB/s eta 0:00:02\n",
      "   ------------------------------ --------- 29.8/38.8 MB 5.0 MB/s eta 0:00:02\n",
      "   ------------------------------ --------- 29.8/38.8 MB 5.0 MB/s eta 0:00:02\n",
      "   ------------------------------ --------- 30.0/38.8 MB 4.9 MB/s eta 0:00:02\n",
      "   ------------------------------- -------- 30.1/38.8 MB 4.9 MB/s eta 0:00:02\n",
      "   ------------------------------- -------- 30.2/38.8 MB 4.8 MB/s eta 0:00:02\n",
      "   ------------------------------- -------- 30.4/38.8 MB 4.8 MB/s eta 0:00:02\n",
      "   ------------------------------- -------- 30.5/38.8 MB 4.7 MB/s eta 0:00:02\n",
      "   ------------------------------- -------- 30.7/38.8 MB 4.7 MB/s eta 0:00:02\n",
      "   ------------------------------- -------- 30.8/38.8 MB 4.7 MB/s eta 0:00:02\n",
      "   -------------------------------- ------- 31.0/38.8 MB 4.7 MB/s eta 0:00:02\n",
      "   -------------------------------- ------- 31.2/38.8 MB 4.6 MB/s eta 0:00:02\n",
      "   -------------------------------- ------- 31.4/38.8 MB 4.6 MB/s eta 0:00:02\n",
      "   -------------------------------- ------- 31.5/38.8 MB 4.6 MB/s eta 0:00:02\n",
      "   -------------------------------- ------- 31.8/38.8 MB 4.5 MB/s eta 0:00:02\n",
      "   -------------------------------- ------- 31.9/38.8 MB 4.6 MB/s eta 0:00:02\n",
      "   --------------------------------- ------ 32.1/38.8 MB 4.5 MB/s eta 0:00:02\n",
      "   --------------------------------- ------ 32.2/38.8 MB 4.5 MB/s eta 0:00:02\n",
      "   --------------------------------- ------ 32.3/38.8 MB 4.5 MB/s eta 0:00:02\n",
      "   --------------------------------- ------ 32.3/38.8 MB 4.5 MB/s eta 0:00:02\n",
      "   --------------------------------- ------ 32.6/38.8 MB 4.4 MB/s eta 0:00:02\n",
      "   --------------------------------- ------ 32.8/38.8 MB 4.4 MB/s eta 0:00:02\n",
      "   --------------------------------- ------ 32.9/38.8 MB 4.3 MB/s eta 0:00:02\n",
      "   ---------------------------------- ----- 33.0/38.8 MB 4.3 MB/s eta 0:00:02\n",
      "   ---------------------------------- ----- 33.2/38.8 MB 4.3 MB/s eta 0:00:02\n",
      "   ---------------------------------- ----- 33.2/38.8 MB 4.2 MB/s eta 0:00:02\n",
      "   ---------------------------------- ----- 33.4/38.8 MB 4.2 MB/s eta 0:00:02\n",
      "   ---------------------------------- ----- 33.4/38.8 MB 4.1 MB/s eta 0:00:02\n",
      "   ---------------------------------- ----- 33.6/38.8 MB 4.1 MB/s eta 0:00:02\n",
      "   ---------------------------------- ----- 33.7/38.8 MB 4.1 MB/s eta 0:00:02\n",
      "   ---------------------------------- ----- 33.9/38.8 MB 4.0 MB/s eta 0:00:02\n",
      "   ---------------------------------- ----- 33.9/38.8 MB 4.0 MB/s eta 0:00:02\n",
      "   ----------------------------------- ---- 34.0/38.8 MB 3.9 MB/s eta 0:00:02\n",
      "   ----------------------------------- ---- 34.2/38.8 MB 3.9 MB/s eta 0:00:02\n",
      "   ----------------------------------- ---- 34.2/38.8 MB 3.9 MB/s eta 0:00:02\n",
      "   ----------------------------------- ---- 34.4/38.8 MB 3.9 MB/s eta 0:00:02\n",
      "   ----------------------------------- ---- 34.6/38.8 MB 3.9 MB/s eta 0:00:02\n",
      "   ----------------------------------- ---- 34.7/38.8 MB 3.9 MB/s eta 0:00:02\n",
      "   ----------------------------------- ---- 34.7/38.8 MB 3.8 MB/s eta 0:00:02\n",
      "   ------------------------------------ --- 35.0/38.8 MB 3.8 MB/s eta 0:00:02\n",
      "   ------------------------------------ --- 35.1/38.8 MB 3.7 MB/s eta 0:00:01\n",
      "   ------------------------------------ --- 35.2/38.8 MB 3.7 MB/s eta 0:00:01\n",
      "   ------------------------------------ --- 35.4/38.8 MB 3.8 MB/s eta 0:00:01\n",
      "   ------------------------------------ --- 35.5/38.8 MB 3.7 MB/s eta 0:00:01\n",
      "   ------------------------------------ --- 35.7/38.8 MB 3.7 MB/s eta 0:00:01\n",
      "   ------------------------------------- -- 35.9/38.8 MB 3.7 MB/s eta 0:00:01\n",
      "   ------------------------------------- -- 36.0/38.8 MB 3.7 MB/s eta 0:00:01\n",
      "   ------------------------------------- -- 36.2/38.8 MB 3.7 MB/s eta 0:00:01\n",
      "   ------------------------------------- -- 36.2/38.8 MB 3.6 MB/s eta 0:00:01\n",
      "   ------------------------------------- -- 36.4/38.8 MB 3.6 MB/s eta 0:00:01\n",
      "   ------------------------------------- -- 36.6/38.8 MB 3.6 MB/s eta 0:00:01\n",
      "   ------------------------------------- -- 36.7/38.8 MB 3.6 MB/s eta 0:00:01\n",
      "   -------------------------------------- - 36.9/38.8 MB 3.6 MB/s eta 0:00:01\n",
      "   -------------------------------------- - 37.0/38.8 MB 3.5 MB/s eta 0:00:01\n",
      "   -------------------------------------- - 37.1/38.8 MB 3.5 MB/s eta 0:00:01\n",
      "   -------------------------------------- - 37.3/38.8 MB 3.6 MB/s eta 0:00:01\n",
      "   -------------------------------------- - 37.4/38.8 MB 3.5 MB/s eta 0:00:01\n",
      "   -------------------------------------- - 37.5/38.8 MB 3.5 MB/s eta 0:00:01\n",
      "   -------------------------------------- - 37.6/38.8 MB 3.4 MB/s eta 0:00:01\n",
      "   ---------------------------------------  37.8/38.8 MB 3.4 MB/s eta 0:00:01\n",
      "   ---------------------------------------  37.9/38.8 MB 3.4 MB/s eta 0:00:01\n",
      "   ---------------------------------------  38.2/38.8 MB 3.4 MB/s eta 0:00:01\n",
      "   ---------------------------------------  38.3/38.8 MB 3.4 MB/s eta 0:00:01\n",
      "   ---------------------------------------  38.5/38.8 MB 3.4 MB/s eta 0:00:01\n",
      "   ---------------------------------------  38.6/38.8 MB 3.4 MB/s eta 0:00:01\n",
      "   ---------------------------------------  38.7/38.8 MB 3.4 MB/s eta 0:00:01\n",
      "   ---------------------------------------  38.7/38.8 MB 3.4 MB/s eta 0:00:01\n",
      "   ---------------------------------------  38.7/38.8 MB 3.4 MB/s eta 0:00:01\n",
      "   ---------------------------------------- 38.8/38.8 MB 3.3 MB/s eta 0:00:00\n",
      "Installing collected packages: opencv-python-headless\n",
      "Successfully installed opencv-python-headless-4.10.0.84\n",
      "Note: you may need to restart the kernel to use updated packages.\n"
     ]
    }
   ],
   "source": [
    "pip install opencv-python-headless\n"
   ]
  },
  {
   "cell_type": "code",
   "execution_count": 36,
   "metadata": {},
   "outputs": [],
   "source": [
    "import cv2\n"
   ]
  },
  {
   "cell_type": "code",
   "execution_count": 37,
   "metadata": {},
   "outputs": [],
   "source": [
    "test_img = cv2.imread('DogVsCat_Classifier/Dog.jpg')"
   ]
  },
  {
   "cell_type": "code",
   "execution_count": 39,
   "metadata": {},
   "outputs": [],
   "source": [
    "import numpy as np\n",
    "#Example of converting to a float array\n",
    "test_img = np.array(test_img,dtype=np.float32)"
   ]
  },
  {
   "cell_type": "code",
   "execution_count": 50,
   "metadata": {},
   "outputs": [],
   "source": [
    "from PIL import Image\n",
    "import numpy as np\n",
    "\n",
    "img = Image.open('Dog.jpg')\n",
    "test_img = np.array(img, dtype=np.float32)\n"
   ]
  },
  {
   "cell_type": "code",
   "execution_count": null,
   "metadata": {},
   "outputs": [],
   "source": [
    "#from PIL import Image\n",
    "#import numpy as np\n",
    "\n",
    "#img = Image.open('cat.jpg')\n",
    "#test_img = np.array(img, dtype=np.float32)\n"
   ]
  },
  {
   "cell_type": "code",
   "execution_count": 51,
   "metadata": {},
   "outputs": [
    {
     "name": "stderr",
     "output_type": "stream",
     "text": [
      "Clipping input data to the valid range for imshow with RGB data ([0..1] for floats or [0..255] for integers). Got range [0.0..255.0].\n"
     ]
    },
    {
     "data": {
      "text/plain": [
       "<matplotlib.image.AxesImage at 0x10c527a1450>"
      ]
     },
     "execution_count": 51,
     "metadata": {},
     "output_type": "execute_result"
    },
    {
     "data": {
      "image/png": "[encoded data removed]",
      "text/plain": [
       "<Figure size 640x480 with 1 Axes>"
      ]
     },
     "metadata": {},
     "output_type": "display_data"
    }
   ],
   "source": [
    "plt.imshow(test_img)"
   ]
  },
  {
   "cell_type": "code",
   "execution_count": 52,
   "metadata": {},
   "outputs": [
    {
     "data": {
      "text/plain": [
       "(430, 710, 3)"
      ]
     },
     "execution_count": 52,
     "metadata": {},
     "output_type": "execute_result"
    }
   ],
   "source": [
    "test_img.shape"
   ]
  },
  {
   "cell_type": "code",
   "execution_count": 53,
   "metadata": {},
   "outputs": [],
   "source": [
    "test_img = cv2.resize(test_img,(256,256))"
   ]
  },
  {
   "cell_type": "code",
   "execution_count": 54,
   "metadata": {},
   "outputs": [],
   "source": [
    "test_input = test_img.reshape((1,256,256,3))"
   ]
  },
  {
   "cell_type": "code",
   "execution_count": 56,
   "metadata": {},
   "outputs": [
    {
     "name": "stdout",
     "output_type": "stream",
     "text": [
      "\u001b[1m1/1\u001b[0m \u001b[32m━━━━━━━━━━━━━━━━━━━━\u001b[0m\u001b[37m\u001b[0m \u001b[1m0s\u001b[0m 60ms/step\n"
     ]
    },
    {
     "data": {
      "text/plain": [
       "array([[1.]], dtype=float32)"
      ]
     },
     "execution_count": 56,
     "metadata": {},
     "output_type": "execute_result"
    }
   ],
   "source": [
    "model.predict(test_input)"
   ]
  },
  {
   "cell_type": "code",
   "execution_count": null,
   "metadata": {},
   "outputs": [],
   "source": [
    "#1 indicates dog and 0 indicates cat"
   ]
  }
 ],
 "metadata": {
  "kernelspec": {
   "display_name": "base",
   "language": "python",
   "name": "python3"
  },
  "language_info": {
   "codemirror_mode": {
    "name": "ipython",
    "version": 3
   },
   "file_extension": ".py",
   "mimetype": "text/x-python",
   "name": "python",
   "nbconvert_exporter": "python",
   "pygments_lexer": "ipython3",
   "version": "3.11.7"
  }
 },
 "nbformat": 4,
 "nbformat_minor": 2
}
